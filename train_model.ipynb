{
 "cells": [
  {
   "cell_type": "code",
   "execution_count": 3,
   "metadata": {},
   "outputs": [],
   "source": [
    "import json\n",
    "import numpy as np\n",
    "from utils import tokenize,stem,bow\n",
    "import torch\n",
    "import torch.nn as nn\n",
    "from torch.utils.data import Dataset, DataLoader\n",
    "from model import NeuralNet"
   ]
  },
  {
   "cell_type": "code",
   "execution_count": 4,
   "metadata": {},
   "outputs": [],
   "source": [
    "# Reading Intentions\n",
    "with open('intentions.json','r') as file:\n",
    "    intentions = json.load(file)\n",
    "\n",
    "all_words,tags,xy = [],[],[]\n",
    "\n",
    "# Ignore Words\n",
    "ignore = ['?',',','!','.','-','\\'']"
   ]
  },
  {
   "cell_type": "code",
   "execution_count": 5,
   "metadata": {},
   "outputs": [],
   "source": [
    "# Tokenizing & Stemming to get all words and tags \n",
    "for intent in intentions['intentions']:\n",
    "    tag = intent['tag']\n",
    "    tags.append(tag)\n",
    "\n",
    "    for pattern in intent['patterns']:\n",
    "        tokenied_sentence = tokenize(pattern)\n",
    "        xy.append((tokenied_sentence, tag))\n",
    "\n",
    "        stemmed_words = [stem(w) for w in tokenied_sentence if w not in ignore]\n",
    "        all_words.extend(stemmed_words)\n",
    "\n",
    "all_words = sorted(set(all_words))\n",
    "tags = sorted(set(tags))"
   ]
  },
  {
   "cell_type": "code",
   "execution_count": 6,
   "metadata": {},
   "outputs": [],
   "source": [
    "# Using Bag of Words (BOW) to create X_train and y_train\n",
    "X_train, y_train = [],[]\n",
    "for (tokenied_sentence, tag) in xy:\n",
    "    bag = bow(tokenied_sentence, all_words)\n",
    "    X_train.append(bag)\n",
    "    y_train.append(tags.index(tag))\n",
    "    \n",
    "X_train, y_train = np.array(X_train), y_train"
   ]
  },
  {
   "cell_type": "code",
   "execution_count": 7,
   "metadata": {},
   "outputs": [],
   "source": [
    "# Pytorch Dataset preparation. This will be used in Pytorch model.\n",
    "class MyDataset(Dataset):\n",
    "    def __init__(self):\n",
    "        self.n_samples = len(X_train)\n",
    "        self.x_data = X_train\n",
    "        self.y_data = y_train\n",
    "\n",
    "    def __getitem__(self, i):\n",
    "        return self.x_data[i], self.y_data[i]    \n",
    "\n",
    "    def __len__(self):\n",
    "        return self.n_samples"
   ]
  },
  {
   "cell_type": "code",
   "execution_count": 8,
   "metadata": {},
   "outputs": [],
   "source": [
    "# Defining model parameters.\n",
    "input_size = len(all_words)\n",
    "hidden_size = 16\n",
    "ouput_size = len(tags)\n",
    "lr = 0.001\n",
    "num_epochs = 1000\n",
    "device = torch.device ('cuda' if torch.cuda.is_available() else 'cpu')"
   ]
  },
  {
   "cell_type": "code",
   "execution_count": 9,
   "metadata": {},
   "outputs": [],
   "source": [
    "# Setting dataset to DataLoader (Used by Pytroch), Defining model Loss, Defining model optimizer\n",
    "dataset = MyDataset()\n",
    "train_loader = DataLoader(dataset=dataset, batch_size=8, shuffle=True, num_workers=2)\n",
    "\n",
    "model = NeuralNet(input_size, hidden_size, ouput_size)\n",
    "criterion = nn.CrossEntropyLoss()\n",
    "optimizer = torch.optim.Adam(model.parameters(), lr=lr)"
   ]
  },
  {
   "cell_type": "code",
   "execution_count": 10,
   "metadata": {},
   "outputs": [
    {
     "name": "stdout",
     "output_type": "stream",
     "text": [
      "Epoch :  100 / 1000  loss :  1.0670640468597412\n",
      "Epoch :  200 / 1000  loss :  0.7534254789352417\n",
      "Epoch :  300 / 1000  loss :  0.6860737800598145\n",
      "Epoch :  400 / 1000  loss :  0.6405797004699707\n",
      "Epoch :  500 / 1000  loss :  0.26428890228271484\n",
      "Epoch :  600 / 1000  loss :  0.04215848445892334\n",
      "Epoch :  700 / 1000  loss :  0.11291855573654175\n",
      "Epoch :  800 / 1000  loss :  0.056964874267578125\n",
      "Epoch :  900 / 1000  loss :  0.18366849422454834\n",
      "Epoch :  1000 / 1000  loss :  0.07135498523712158\n",
      "Final Loss :  0.07135498523712158\n"
     ]
    }
   ],
   "source": [
    "# Training the model\n",
    "for epoch in range(num_epochs):\n",
    "    for (X, y) in train_loader:\n",
    "        X = X.to(device) # GPU if GPU exists else CPU\n",
    "        y = y.to(device) # GPU if GPU exists else CPU\n",
    "\n",
    "        y_hat = model(X) # predictions\n",
    "        loss = criterion(y_hat, y) # loss calculation from predictions and true labels\n",
    "\n",
    "        optimizer.zero_grad() # Making gradients zero for next iteration\n",
    "        loss.backward() # Changing weights and bias based in loss and optimizer.step()\n",
    "        optimizer.step()\n",
    "\n",
    "    if (epoch+1)%100 == 0:\n",
    "        print(\"Epoch : \",epoch+1, \"/\", num_epochs,\" loss : \", loss.item())\n",
    "\n",
    "print(\"Final Loss : \", loss.item())"
   ]
  },
  {
   "cell_type": "code",
   "execution_count": 11,
   "metadata": {},
   "outputs": [],
   "source": [
    "# Saving the model for chatbot\n",
    "data  = {\n",
    "    \"model_state\":model.state_dict(),\n",
    "    \"input_size\":input_size,\n",
    "    \"output_size\":ouput_size,\n",
    "    \"hidden_size\":hidden_size,\n",
    "    \"all_words\":all_words,\n",
    "    \"tags\":tags\n",
    "}\n",
    "\n",
    "torch.save(data, \"saved_model.pth\")"
   ]
  }
 ],
 "metadata": {
  "kernelspec": {
   "display_name": "Python 3",
   "language": "python",
   "name": "python3"
  },
  "language_info": {
   "codemirror_mode": {
    "name": "ipython",
    "version": 3
   },
   "file_extension": ".py",
   "mimetype": "text/x-python",
   "name": "python",
   "nbconvert_exporter": "python",
   "pygments_lexer": "ipython3",
   "version": "3.7.1"
  }
 },
 "nbformat": 4,
 "nbformat_minor": 4
}
